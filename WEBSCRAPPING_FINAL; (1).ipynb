{
  "cells": [
    {
      "cell_type": "code",
      "execution_count": 2,
      "metadata": {
        "id": "pBNXe17k8Mr0"
      },
      "outputs": [],
      "source": [
        "from bs4 import BeautifulSoup as bs\n",
        "import requests"
      ]
    },
    {
      "cell_type": "code",
      "execution_count": 3,
      "metadata": {
        "id": "mU1Fmq778MsA"
      },
      "outputs": [],
      "source": [
        "link =\"https://www.amazon.in/OnePlus-Sierra-Black-Storage-SuperVOOC/product-reviews/B09WRMNDSV/ref=cm_cr_dp_d_show_all_btm?ie=UTF8&reviewerType=all_reviews\""
      ]
    },
    {
      "cell_type": "code",
      "execution_count": 4,
      "metadata": {
        "id": "Nq9SrOB18MsC"
      },
      "outputs": [],
      "source": [
        "page = requests.get(link)"
      ]
    },
    {
      "cell_type": "code",
      "execution_count": null,
      "metadata": {
        "id": "BDrSd-7W8MsD"
      },
      "outputs": [],
      "source": [
        "page"
      ]
    },
    {
      "cell_type": "code",
      "execution_count": null,
      "metadata": {
        "id": "7M6SObAg8MsG"
      },
      "outputs": [],
      "source": [
        "page.content"
      ]
    },
    {
      "cell_type": "code",
      "execution_count": 7,
      "metadata": {
        "id": "oSC9wgGT8MsI"
      },
      "outputs": [],
      "source": [
        "soup=bs(page.content,'html.parser')"
      ]
    },
    {
      "cell_type": "code",
      "execution_count": null,
      "metadata": {
        "id": "sXriJ2Pk8MsJ"
      },
      "outputs": [],
      "source": [
        "print(soup.prettify)"
      ]
    },
    {
      "cell_type": "code",
      "execution_count": 9,
      "metadata": {
        "id": "KUNCrEyJ8MsK"
      },
      "outputs": [],
      "source": [
        "names=soup.find_all('span', class_=\"a-profile-name\")"
      ]
    },
    {
      "cell_type": "code",
      "execution_count": null,
      "metadata": {
        "id": "X0cKPHg48MsM"
      },
      "outputs": [],
      "source": [
        "names"
      ]
    },
    {
      "cell_type": "code",
      "execution_count": 11,
      "metadata": {
        "id": "T2Z7vq5C8MsN"
      },
      "outputs": [],
      "source": [
        "cust_name=[]\n",
        "for i in range(len(names)):\n",
        "    cust_name.append(names[i].get_text())"
      ]
    },
    {
      "cell_type": "code",
      "execution_count": null,
      "metadata": {
        "id": "YjFW9U7S8MsO"
      },
      "outputs": [],
      "source": [
        "cust_name"
      ]
    },
    {
      "cell_type": "code",
      "execution_count": null,
      "metadata": {
        "id": "CVM0ViU38MsP"
      },
      "outputs": [],
      "source": [
        "cust_name.pop(0)"
      ]
    },
    {
      "cell_type": "code",
      "execution_count": null,
      "metadata": {
        "id": "6EC-1xGx8MsR"
      },
      "outputs": [],
      "source": [
        "cust_name.pop(0)"
      ]
    },
    {
      "cell_type": "code",
      "execution_count": null,
      "metadata": {
        "id": "sv4MMGyy8MsS"
      },
      "outputs": [],
      "source": [
        "cust_name"
      ]
    },
    {
      "cell_type": "code",
      "execution_count": null,
      "metadata": {
        "id": "O2X3LbvJ8MsT"
      },
      "outputs": [],
      "source": [
        "review = soup.find_all(\"span\",{\"data-hook\":\"review-body\"})\n",
        "review"
      ]
    },
    {
      "cell_type": "code",
      "execution_count": null,
      "metadata": {
        "id": "dR3vHfEF8MsU"
      },
      "outputs": [],
      "source": [
        "reviews=[]\n",
        "for i in range(len(review)):\n",
        "    reviews.append(review[i].get_text())"
      ]
    },
    {
      "cell_type": "code",
      "execution_count": null,
      "metadata": {
        "id": "ZHluVan48MsV"
      },
      "outputs": [],
      "source": [
        "reviews"
      ]
    },
    {
      "cell_type": "code",
      "execution_count": null,
      "metadata": {
        "id": "qze2Aq-s8MsW"
      },
      "outputs": [],
      "source": [
        "r=[review.strip(\"\\n\") for review in reviews]"
      ]
    },
    {
      "cell_type": "code",
      "execution_count": null,
      "metadata": {
        "id": "O5g2KVrH8MsX"
      },
      "outputs": [],
      "source": [
        "r"
      ]
    },
    {
      "cell_type": "code",
      "execution_count": null,
      "metadata": {
        "id": "wg1QD2BZ8MsX"
      },
      "outputs": [],
      "source": [
        "names"
      ]
    },
    {
      "cell_type": "code",
      "execution_count": null,
      "metadata": {
        "id": "pJ4vcEqZ8MsY"
      },
      "outputs": [],
      "source": [
        "cust_name"
      ]
    },
    {
      "cell_type": "code",
      "execution_count": null,
      "metadata": {
        "id": "fzaQVG-s8MsZ"
      },
      "outputs": [],
      "source": [
        "import pandas as pd"
      ]
    },
    {
      "cell_type": "code",
      "execution_count": null,
      "metadata": {
        "id": "xGwXJGTn8MsZ"
      },
      "outputs": [],
      "source": [
        "df=pd.DataFrame()"
      ]
    },
    {
      "cell_type": "code",
      "execution_count": null,
      "metadata": {
        "id": "shDpVU6I8Msa"
      },
      "outputs": [],
      "source": [
        "df[\"Name\"]=cust_name\n",
        "df['REVIEWS']=r"
      ]
    },
    {
      "cell_type": "code",
      "execution_count": null,
      "metadata": {
        "id": "lGiMOrhQ8Msa"
      },
      "outputs": [],
      "source": [
        "df"
      ]
    },
    {
      "cell_type": "code",
      "execution_count": null,
      "metadata": {
        "id": "cizVAvvo8Msc"
      },
      "outputs": [],
      "source": [
        "df.to_csv(\"result.csv\")"
      ]
    },
    {
      "cell_type": "code",
      "execution_count": null,
      "metadata": {
        "id": "9tXdaDUr8Msc"
      },
      "outputs": [],
      "source": []
    }
  ],
  "metadata": {
    "kernelspec": {
      "display_name": "Python 3",
      "language": "python",
      "name": "python3"
    },
    "language_info": {
      "codemirror_mode": {
        "name": "ipython",
        "version": 3
      },
      "file_extension": ".py",
      "mimetype": "text/x-python",
      "name": "python",
      "nbconvert_exporter": "python",
      "pygments_lexer": "ipython3",
      "version": "3.7.6"
    },
    "colab": {
      "provenance": []
    }
  },
  "nbformat": 4,
  "nbformat_minor": 0
}